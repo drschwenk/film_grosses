{
 "metadata": {
  "name": "",
  "signature": "sha256:d501fc796267dc9684cfd7fda73e6220ee69385449ce97ce10d20b095ac11bd4"
 },
 "nbformat": 3,
 "nbformat_minor": 0,
 "worksheets": [
  {
   "cells": [
    {
     "cell_type": "code",
     "collapsed": false,
     "input": [
      "import unirest\n",
      "response = unirest.post(\"https://byroredux-metacritic.p.mashape.com/search/movie\",\n",
      "  headers={\n",
      "    \"X-Mashape-Key\": \"qVfe61JdSVmshmeVf0gO3AWaVRnBp1oo7y7jsntrUZ1ORQbTjO\",\n",
      "    \"Content-Type\": \"application/x-www-form-urlencoded\",\n",
      "    \"Accept\": \"application/json\"\n",
      "  },\n",
      "  params={\n",
      "    \"max_pages\": \"2\",\n",
      "    \"retry\": 4,\n",
      "    \"title\": \"How to Train Your Dragon\"\n",
      "  }\n",
      ")"
     ],
     "language": "python",
     "metadata": {},
     "outputs": [],
     "prompt_number": 36
    },
    {
     "cell_type": "markdown",
     "metadata": {},
     "source": [
      "{\n",
      "  \"max_pages\": \"2\",\n",
      "  \"count\": 2,\n",
      "  \"results\": [\n",
      "    {\n",
      "      \"name\": \"Back to the Future Part III\",\n",
      "      \"score\": \"55\",\n",
      "      \"url\": \"http://www.metacritic.com/movie/back-to-the-future-part-iii\",\n",
      "      \"rlsdate\": \"1990-05-25\",\n",
      "      \"summary\": \"Marty McFly travels to 1885 to save his good friend, Doc Brown.                    \",\n",
      "      \"rating\": \"PG\",\n",
      "      \"cast\": \"Christopher Lloyd, Mary Steenburgen, Michael J. Fox\",\n",
      "      \"genre\": \"Adventure, Sci-Fi, Comedy, Western\",\n",
      "      \"avguserscore\": \"7.9\",\n",
      "      \"runtime\": \"118 min\"\n",
      "    },"
     ]
    },
    {
     "cell_type": "code",
     "collapsed": false,
     "input": [
      "for film in response.body['results']:\n",
      "    print film\n"
     ],
     "language": "python",
     "metadata": {},
     "outputs": [
      {
       "output_type": "stream",
       "stream": "stdout",
       "text": [
        "{u'rating': u'PG', u'name': u'How to Train Your Dragon 2', u'avguserscore': u'8.3', u'url': u'http://www.metacritic.com/movie/how-to-train-your-dragon-2', u'summary': u\"It's been five years since Hiccup and Toothless successfully united dragons and vikings on the island of Berk. While Astrid, Snoutlout and the rest of the gang are challenging each other to dragon...                    \", u'cast': u'America Ferrera, Cate Blanchett, Christopher Mintz-Plasse, Craig Ferguson, Gerard Butler, Jay Baruchel, Jonah Hill, Kristen Wiig', u'score': u'76', u'rlsdate': u'2014-06-13', u'genre': u'Action, Adventure, Fantasy, Comedy, Animation, Family', u'runtime': u'102 min'}\n",
        "{u'rating': u'PG', u'name': u'How to Train Your Dragon', u'avguserscore': u'8.8', u'url': u'http://www.metacritic.com/movie/how-to-train-your-dragon', u'summary': u'Set in the mythical world of burly Vikings and wild dragons, and based on the book by Cressida Cowell, the action comedy tells the story of Hiccup, a Viking teenager who doesn\\u2019t exactly fit in with...                    ', u'cast': u'Christopher Mintz-Plasse, Gerard Butler, Jay Baruchel', u'score': u'74', u'rlsdate': u'2010-03-26', u'genre': u'Adventure, Drama, Fantasy, Comedy, Animation, Family', u'runtime': u'98 min'}\n",
        "{u'rating': u'', u'name': u'How to Train Your Dragon 3', u'avguserscore': u'', u'url': u'http://www.metacritic.com/movie/how-to-train-your-dragon-3', u'summary': u'', u'cast': u'', u'score': u'', u'rlsdate': u'2018-06-29', u'genre': u'Action, Adventure, Comedy, Animation, Family', u'runtime': u''}\n"
       ]
      }
     ],
     "prompt_number": 38
    },
    {
     "cell_type": "code",
     "collapsed": false,
     "input": [],
     "language": "python",
     "metadata": {},
     "outputs": []
    }
   ],
   "metadata": {}
  }
 ]
}