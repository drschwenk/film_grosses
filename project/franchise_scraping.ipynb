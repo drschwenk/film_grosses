{
 "worksheets": [
  {
   "cells": [
    {
     "cell_type": "code",
     "metadata": {},
     "outputs": [
      {
       "output_type": "stream",
       "stream": "stdout",
       "text": [
        "The autoreload extension is already loaded. To reload it, use:\n",
        "  %reload_ext autoreload\n"
       ]
      }
     ],
     "input": [
      "%load_ext autoreload\n",
      "%autoreload 2\n",
      "%matplotlib inline \n",
      "from collections import defaultdict\n",
      "import urllib2\n",
      "from bs4 import BeautifulSoup\n",
      "import re\n",
      "import dateutil.parser\n",
      "import pylab\n",
      "import matplotlib.pyplot as plt\n",
      "\n",
      "from box_mojo import *\n",
      "from box_mojo_franchise_list import *"
     ],
     "language": "python",
     "prompt_number": 6
    },
    {
     "cell_type": "code",
     "metadata": {},
     "outputs": [],
     "input": [
      "franchiseslist = build_franchise_chart_urls()\n",
      "franchise_urls = build_movie_url_list(franchiseslist)"
     ],
     "language": "python",
     "prompt_number": 7
    },
    {
     "cell_type": "code",
     "metadata": {},
     "outputs": [],
     "input": [
      "complete_data_list = make_complete_movie_dataset(franchise_urls)\n",
      "\n",
      "import pickle\n",
      "\n",
      "with open(\"complete_data.pkl\", 'w') as picklefile:\n",
      "    pickle.dump(complete_data_list, picklefile)"
     ],
     "language": "python",
     "prompt_number": 10
    },
    {
     "cell_type": "code",
     "metadata": {},
     "outputs": [
      {
       "output_type": "stream",
       "stream": "stdout",
       "text": [
        "{'rating': 'R', 'oscars': 0, 'title': 'Along Came a Spider', 'release_date': numpy.datetime64('2001-04-06'), 'budget': 60000000.0, 'director': 'Lee Tamahori', 'distrib': 'Paramount', 'domestic_total_gross': 108630500, 'genre': 'Thriller', 'runtime': 103, 'franchise': 'alexcross'}\n"
       ]
      }
     ],
     "input": [
      "print complete_data_list[0]"
     ],
     "language": "python",
     "prompt_number": 11
    },
    {
     "cell_type": "heading",
     "metadata": {},
     "level": 3,
     "source": [
      "At this point, I have 725 movies belonging to 151 franchises"
     ]
    },
    {
     "cell_type": "code",
     "metadata": {},
     "outputs": [
      {
       "output_type": "stream",
       "stream": "stdout",
       "text": [
        "     domestic_total_gross franchise         rating release_date runtime_mins  \\\n",
        "721                     0     httyd  Not Yet Rated   2017-06-09         None   \n",
        "722             187184000    scream              R   1996-12-20          110   \n",
        "723             181776000    scream              R   1997-12-12          120   \n",
        "724             137270600    scream              R   2000-02-04          117   \n",
        "725              39317800    scream              R   2011-04-15          103   \n",
        "\n",
        "                          title  \n",
        "721  How to Train Your Dragon 3  \n",
        "722                      Scream  \n",
        "723                    Scream 2  \n",
        "724                    Scream 3  \n",
        "725                    Scream 4  \n"
       ]
      }
     ],
     "input": [
      "import pandas as pd\n",
      "df = pd.DataFrame(complete_data_for_pandas)\n",
      "\n",
      "print df.tail();"
     ],
     "language": "python",
     "prompt_number": 6
    }
   ]
  }
 ],
 "cells": [],
 "metadata": {
  "signature": "sha256:fe1decb3866438e1c465d5b387cbabc1aaaf09e315effa31a29179eaa83c6e37"
 },
 "nbformat": 3,
 "nbformat_minor": 0
}