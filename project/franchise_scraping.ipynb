{
 "metadata": {
  "signature": "sha256:aa7291d86647e04290f6f672664d28640a6af6cb4f07c29206ed43949731a690"
 },
 "nbformat": 3,
 "nbformat_minor": 0,
 "worksheets": [
  {
   "cells": [
    {
     "cell_type": "code",
     "collapsed": false,
     "input": [
      "%load_ext autoreload\n",
      "%autoreload 2\n",
      "%matplotlib inline \n",
      "from collections import defaultdict\n",
      "import urllib.request, urllib.error, urllib.parse\n",
      "from bs4 import BeautifulSoup\n",
      "import re\n",
      "import dateutil.parser\n",
      "import pylab\n",
      "import matplotlib.pyplot as plt\n",
      "\n",
      "from box_mojo import *\n",
      "from box_mojo_franchise_list import *"
     ],
     "language": "python",
     "metadata": {},
     "outputs": [
      {
       "output_type": "stream",
       "stream": "stdout",
       "text": [
        "The autoreload extension is already loaded. To reload it, use:\n",
        "  %reload_ext autoreload\n"
       ]
      }
     ],
     "prompt_number": 23
    },
    {
     "cell_type": "code",
     "collapsed": false,
     "input": [
      "franchiseslist = build_franchise_chart_urls()\n",
      "franchise_urls = build_movie_url_list(franchiseslist)"
     ],
     "language": "python",
     "metadata": {},
     "outputs": [],
     "prompt_number": 24
    },
    {
     "cell_type": "code",
     "collapsed": false,
     "input": [
      "complete_data_list = make_complete_movie_dataset(franchise_urls)"
     ],
     "language": "python",
     "metadata": {},
     "outputs": [],
     "prompt_number": 25
    },
    {
     "cell_type": "code",
     "collapsed": false,
     "input": [
      "import pickle\n",
      "\n",
      "with open(\"franchise_data.pkl\", 'wb') as picklefile:\n",
      "    pickle.dump(complete_data_list, picklefile)"
     ],
     "language": "python",
     "metadata": {},
     "outputs": [],
     "prompt_number": 26
    },
    {
     "cell_type": "code",
     "collapsed": false,
     "input": [
      "print(complete_data_list[0])"
     ],
     "language": "python",
     "metadata": {},
     "outputs": [
      {
       "output_type": "stream",
       "stream": "stdout",
       "text": [
        "{'director': 'John Woo', 'domestic_total_gross': 331707300, 'rating': 'PG-13', 'distrib': 'Paramount', 'release_date': numpy.datetime64('2000-05-24'), 'budget': 125000000.0, 'genre': 'Action', 'runtime': 123, 'franchise': 'missionimpossible', 'metacritic': 60.0, 'title': 'Mission: Impossible II', 'oscars': 0}\n"
       ]
      }
     ],
     "prompt_number": 27
    },
    {
     "cell_type": "heading",
     "level": 3,
     "metadata": {},
     "source": [
      "At this point, I have 725 movies belonging to 151 franchises"
     ]
    },
    {
     "cell_type": "code",
     "collapsed": false,
     "input": [
      "import pandas as pd\n",
      "df = pd.DataFrame(complete_data_list)\n",
      "\n",
      "# print(df.tail())\n",
      "df.describe()"
     ],
     "language": "python",
     "metadata": {},
     "outputs": [
      {
       "html": [
        "<div style=\"max-height:1000px;max-width:1500px;overflow:auto;\">\n",
        "<table border=\"1\" class=\"dataframe\">\n",
        "  <thead>\n",
        "    <tr style=\"text-align: right;\">\n",
        "      <th></th>\n",
        "      <th>budget</th>\n",
        "      <th>domestic_total_gross</th>\n",
        "      <th>oscars</th>\n",
        "      <th>runtime</th>\n",
        "    </tr>\n",
        "  </thead>\n",
        "  <tbody>\n",
        "    <tr>\n",
        "      <th>count</th>\n",
        "      <td> 3.590000e+02</td>\n",
        "      <td> 7.290000e+02</td>\n",
        "      <td> 729.000000</td>\n",
        "      <td> 657.000000</td>\n",
        "    </tr>\n",
        "    <tr>\n",
        "      <th>mean</th>\n",
        "      <td> 7.625905e+07</td>\n",
        "      <td> 1.391158e+08</td>\n",
        "      <td>   0.163237</td>\n",
        "      <td> 107.928463</td>\n",
        "    </tr>\n",
        "    <tr>\n",
        "      <th>std</th>\n",
        "      <td> 6.479719e+07</td>\n",
        "      <td> 1.521482e+08</td>\n",
        "      <td>   0.369836</td>\n",
        "      <td>  20.209484</td>\n",
        "    </tr>\n",
        "    <tr>\n",
        "      <th>min</th>\n",
        "      <td> 1.200000e+06</td>\n",
        "      <td> 0.000000e+00</td>\n",
        "      <td>   0.000000</td>\n",
        "      <td>  44.000000</td>\n",
        "    </tr>\n",
        "    <tr>\n",
        "      <th>25%</th>\n",
        "      <td> 2.250000e+07</td>\n",
        "      <td> 2.850370e+07</td>\n",
        "      <td>   0.000000</td>\n",
        "      <td>  93.000000</td>\n",
        "    </tr>\n",
        "    <tr>\n",
        "      <th>50%</th>\n",
        "      <td> 5.800000e+07</td>\n",
        "      <td> 8.714650e+07</td>\n",
        "      <td>   0.000000</td>\n",
        "      <td> 103.000000</td>\n",
        "    </tr>\n",
        "    <tr>\n",
        "      <th>75%</th>\n",
        "      <td> 1.250000e+08</td>\n",
        "      <td> 2.110581e+08</td>\n",
        "      <td>   0.000000</td>\n",
        "      <td> 120.000000</td>\n",
        "    </tr>\n",
        "    <tr>\n",
        "      <th>max</th>\n",
        "      <td> 3.000000e+08</td>\n",
        "      <td> 1.184692e+09</td>\n",
        "      <td>   1.000000</td>\n",
        "      <td> 200.000000</td>\n",
        "    </tr>\n",
        "  </tbody>\n",
        "</table>\n",
        "</div>"
       ],
       "metadata": {},
       "output_type": "pyout",
       "prompt_number": 16,
       "text": [
        "             budget  domestic_total_gross      oscars     runtime\n",
        "count  3.590000e+02          7.290000e+02  729.000000  657.000000\n",
        "mean   7.625905e+07          1.391158e+08    0.163237  107.928463\n",
        "std    6.479719e+07          1.521482e+08    0.369836   20.209484\n",
        "min    1.200000e+06          0.000000e+00    0.000000   44.000000\n",
        "25%    2.250000e+07          2.850370e+07    0.000000   93.000000\n",
        "50%    5.800000e+07          8.714650e+07    0.000000  103.000000\n",
        "75%    1.250000e+08          2.110581e+08    0.000000  120.000000\n",
        "max    3.000000e+08          1.184692e+09    1.000000  200.000000"
       ]
      }
     ],
     "prompt_number": 16
    },
    {
     "cell_type": "code",
     "collapsed": false,
     "input": [],
     "language": "python",
     "metadata": {},
     "outputs": []
    }
   ],
   "metadata": {}
  }
 ]
}