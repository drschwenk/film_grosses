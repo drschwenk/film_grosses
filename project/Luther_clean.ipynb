{
 "metadata": {
  "name": "",
  "signature": "sha256:d8d3c152a73e1933f11ec69237472fcdb4d9b75dedde5bb6e5ac8d1b1dc3f286"
 },
 "nbformat": 3,
 "nbformat_minor": 0,
 "worksheets": [
  {
   "cells": [
    {
     "cell_type": "code",
     "collapsed": false,
     "input": [
      "%load_ext autoreload\n",
      "%autoreload 2\n",
      "# %matplotlib inline  \n",
      "import pickle\n",
      "from collections import defaultdict\n",
      "import re\n",
      "from box_mojo import *\n",
      "from box_mojo_franchise_list import *\n",
      "from datetime import datetime\n",
      "import dateutil.parser\n",
      "import pylab\n",
      "import numpy as np\n",
      "import pandas as pd\n",
      "import matplotlib.pyplot as plt\n",
      "%base16_mplrc light default"
     ],
     "language": "python",
     "metadata": {},
     "outputs": [
      {
       "output_type": "stream",
       "stream": "stdout",
       "text": [
        "Setting plotting theme to default-light. Palette available in b16_colors\n"
       ]
      }
     ],
     "prompt_number": 1
    },
    {
     "cell_type": "code",
     "collapsed": false,
     "input": [
      "with open(\"complete_data.pkl\", 'r') as picklefile:\n",
      "    complete_data_for_pandas = pickle.load(picklefile)\n",
      "df_complete = pd.DataFrame(complete_data_for_pandas)"
     ],
     "language": "python",
     "metadata": {},
     "outputs": [],
     "prompt_number": 3
    },
    {
     "cell_type": "code",
     "collapsed": false,
     "input": [
      "df_sorted_date = df_complete.sort(columns='release_date')\n",
      "franchise_groups = df_sorted_date.dropna(subset=['franchise']).groupby('franchise')"
     ],
     "language": "python",
     "metadata": {},
     "outputs": [],
     "prompt_number": 4
    },
    {
     "cell_type": "code",
     "collapsed": false,
     "input": [
      "franchises_dict_list = []\n",
      "for franchise, movies_df in franchise_groups:\n",
      "    movies_df.drop_duplicates('title', inplace=True)\n",
      "    if franchise == 'lordoftherings':\n",
      "        movies_df = movies_df[movies_df.rating != 'PG']\n",
      "    franchise_dict = {}\n",
      "    try:\n",
      "        franchise_dict['first_title'] = movies_df['title'].iloc[0]  \n",
      "        franchise_dict['new_title'] = movies_df['title'].iloc[2] \n",
      "        franchise_dict['franchise'] = franchise\n",
      "        franchise_dict['prev_gross'] = (movies_df['domestic_total_gross'].iloc[0] + movies_df['domestic_total_gross'].iloc[1])/float(2)\n",
      "        franchise_dict['act_gross'] = movies_df['domestic_total_gross'].iloc[2]\n",
      "        franchise_dict['prev_meta'] = (movies_df['metacritic'].iloc[0] + movies_df['metacritic'].iloc[1])/float(2)\n",
      "        franchise_dict['act_meta'] = movies_df['metacritic'].iloc[2]\n",
      "        time_d = np.timedelta64(movies_df['release_date'].iloc[1] - movies_df['release_date'].iloc[0])\n",
      "        franchise_dict['days_elapsed'] = time_d.item().total_seconds()/86400\n",
      "        franchise_dict['genre'] = movies_df['genre'].iloc[2]\n",
      "        franchise_dict['rating'] = movies_df['rating'].iloc[2]\n",
      "        franchise_dict['director'] = movies_df['director'].iloc[2] \n",
      "        \n",
      "        if(movies_df['genre'].iloc[0] == movies_df['genre'].iloc[1] == movies_df['genre'].iloc[2]):\n",
      "            franchise_dict['same_genre'] = 1.0\n",
      "        else:\n",
      "            franchise_dict['same_genre'] = 0.0\n",
      "        if(movies_df['director'].iloc[0] == movies_df['director'].iloc[1] == movies_df['director'].iloc[2]):\n",
      "            franchise_dict['same_dir'] = 1.0\n",
      "        else:\n",
      "            franchise_dict['same_dir'] = 0.0\n",
      "        if(movies_df['rating'].iloc[0] == movies_df['rating'].iloc[1] == movies_df['rating'].iloc[2]):\n",
      "            franchise_dict['same_rating'] = 1.0\n",
      "        else:\n",
      "            franchise_dict['same_rating'] = 0.0\n",
      "            \n",
      "        franchises_dict_list.append(franchise_dict)\n",
      "    except IndexError:\n",
      "        pass\n",
      "\n",
      "collapsed_df = pd.DataFrame(franchises_dict_list)\n",
      "# collapsed_df.describe()\n"
     ],
     "language": "python",
     "metadata": {},
     "outputs": [],
     "prompt_number": 6
    },
    {
     "cell_type": "code",
     "collapsed": false,
     "input": [
      "import plotters\n",
      "x = collapsed_df['prev_gross']/1e6\n",
      "y = collapsed_df['act_gross']/1e6\n",
      "name = collapsed_df['new_title']\n",
      "\n",
      "# initiate hover plotter                                                                                                                                                                   \n",
      "plotter = plotters.TwoVariableComparisonPlotter(x, y, name,\n",
      "                                                x_range=(0, 1000),\n",
      "                                                y_range = (0, 1000),\n",
      "                                                label_display_style=\"click\",\n",
      "                                                xlabel=\"Avg. Gross of Previous Films (Million $)\",\n",
      "                                                ylabel = \"Gross of Third Film (Million $)\")\n",
      "\n",
      "# plot!                                                                                                                                                                              \n",
      "# plotter.add_text(0, 360, \"Highly\\nprofitable\")\n",
      "# plotter.add_text(200, 0, \"Absolutely\\nregrettable\")\n",
      "plt.title('Grosses for 3rd Films in Trilogies', fontsize=17)\n",
      "# plt.plot(collapsed_df['prev_gross'],collapsed_df['prev_gross'], 'm--', label = 'Ideal Prediction')\n",
      "\n",
      "plotter.plot()"
     ],
     "language": "python",
     "metadata": {},
     "outputs": [],
     "prompt_number": 7
    },
    {
     "cell_type": "code",
     "collapsed": false,
     "input": [],
     "language": "python",
     "metadata": {},
     "outputs": []
    }
   ],
   "metadata": {}
  }
 ]
}