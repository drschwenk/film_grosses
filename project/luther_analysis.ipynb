{
 "worksheets": [
  {
   "cells": [
    {
     "cell_type": "code",
     "metadata": {},
     "outputs": [
      {
       "output_type": "stream",
       "stream": "stdout",
       "text": [
        "Setting plotting theme to default-light. Palette available in b16_colors\n"
       ]
      }
     ],
     "input": [
      "%load_ext autoreload\n",
      "%autoreload 2\n",
      "# %matplotlib inline  \n",
      "import pickle\n",
      "from collections import defaultdict\n",
      "import re\n",
      "from box_mojo import *\n",
      "from box_mojo_franchise_list import *\n",
      "from datetime import datetime\n",
      "import dateutil.parser\n",
      "import pylab\n",
      "import numpy as np\n",
      "import pandas as pd\n",
      "import matplotlib.pyplot as plt\n",
      "%base16_mplrc light default"
     ],
     "language": "python",
     "prompt_number": 1
    },
    {
     "cell_type": "code",
     "metadata": {},
     "outputs": [],
     "input": [
      "with open(\"complete_data.pkl\", 'r') as picklefile:\n",
      "    complete_data_for_pandas = pickle.load(picklefile)\n",
      "df_complete = pd.DataFrame(complete_data_for_pandas)"
     ],
     "language": "python",
     "prompt_number": 2
    },
    {
     "cell_type": "code",
     "metadata": {},
     "outputs": [],
     "input": [
      "df_sorted_date = df_complete.sort(columns='release_date')\n",
      "franchise_groups = df_sorted_date.dropna(subset=['franchise']).groupby('franchise')"
     ],
     "language": "python",
     "prompt_number": 3
    },
    {
     "cell_type": "code",
     "metadata": {},
     "outputs": [],
     "input": [
      ""
     ],
     "language": "python",
     "prompt_number": 3
    },
    {
     "cell_type": "code",
     "metadata": {},
     "outputs": [
      {
       "output_type": "stream",
       "stream": "stderr",
       "text": [
        "/usr/local/lib/python2.7/site-packages/pandas/util/decorators.py:88: SettingWithCopyWarning: \n",
        "A value is trying to be set on a copy of a slice from a DataFrame\n",
        "\n",
        "See the the caveats in the documentation: http://pandas.pydata.org/pandas-docs/stable/indexing.html#indexing-view-versus-copy\n",
        "  return func(*args, **kwargs)\n"
       ]
      }
     ],
     "input": [
      "franchises_dict_list = []\n",
      "for franchise, movies_df in franchise_groups:\n",
      "    movies_df.drop_duplicates('title', inplace=True)\n",
      "    if franchise == 'lordoftherings':\n",
      "        movies_df = movies_df[movies_df.rating != 'PG']\n",
      "    franchise_dict = {}\n",
      "    try:\n",
      "        franchise_dict['first_title'] = movies_df['title'].iloc[0]  \n",
      "        franchise_dict['new_title'] = movies_df['title'].iloc[2] \n",
      "        franchise_dict['franchise'] = franchise\n",
      "        franchise_dict['prev_gross'] = (movies_df['domestic_total_gross'].iloc[0] + movies_df['domestic_total_gross'].iloc[1])/float(2)\n",
      "        franchise_dict['act_gross'] = movies_df['domestic_total_gross'].iloc[2]\n",
      "        franchise_dict['prev_meta'] = (movies_df['metacritic'].iloc[0] + movies_df['metacritic'].iloc[1])/float(2)\n",
      "        franchise_dict['act_meta'] = movies_df['metacritic'].iloc[2]\n",
      "        time_d = np.timedelta64(movies_df['release_date'].iloc[1] - movies_df['release_date'].iloc[0])\n",
      "        franchise_dict['days_elapsed'] = time_d.item().total_seconds()/86400\n",
      "        franchise_dict['genre'] = movies_df['genre'].iloc[2]\n",
      "        franchise_dict['rating'] = movies_df['rating'].iloc[2]\n",
      "        franchise_dict['director'] = movies_df['director'].iloc[2] \n",
      "        \n",
      "        if(movies_df['genre'].iloc[0] == movies_df['genre'].iloc[1] == movies_df['genre'].iloc[2]):\n",
      "            franchise_dict['same_genre'] = 0.0\n",
      "        else:\n",
      "            franchise_dict['same_genre'] = 1.0\n",
      "        if(movies_df['director'].iloc[0] == movies_df['director'].iloc[1] == movies_df['director'].iloc[2]):\n",
      "            franchise_dict['same_dir'] = 0.0\n",
      "        else:\n",
      "            franchise_dict['same_dir'] = 1.0\n",
      "        if(movies_df['rating'].iloc[0] == movies_df['rating'].iloc[1] == movies_df['rating'].iloc[2]):\n",
      "            franchise_dict['same_rating'] = 0.0\n",
      "        else:\n",
      "            franchise_dict['same_rating'] = 1.0\n",
      "            \n",
      "        franchises_dict_list.append(franchise_dict)\n",
      "    except IndexError:\n",
      "        pass\n",
      "\n",
      "collapsed_df = pd.DataFrame(franchises_dict_list)"
     ],
     "language": "python",
     "prompt_number": 4
    },
    {
     "cell_type": "code",
     "metadata": {},
     "outputs": [],
     "input": [
      "import plotters\n",
      "x = collapsed_df['prev_gross']/1e6\n",
      "y = collapsed_df['act_gross']/1e6\n",
      "name = collapsed_df['new_title']\n",
      "\n",
      "# initiate hover plotter                                                                                                                                                                   \n",
      "plotter = plotters.TwoVariableComparisonPlotter(x, y, name,\n",
      "                                                x_range=(0, 1000),\n",
      "                                                y_range = (0, 1000),\n",
      "                                                label_display_style=\"click\",\n",
      "                                                xlabel=\"Avg. Gross of Previous Films (Million $)\",\n",
      "                                                ylabel = \"Gross of Third Film (Million $)\")\n",
      "plt.title('Box Office for 3rd Films in Trilogies', fontsize=25)\n",
      "plotter.plot()"
     ],
     "language": "python",
     "prompt_number": 5
    },
    {
     "cell_type": "heading",
     "metadata": {},
     "level": 2,
     "source": [
      "linear regression"
     ]
    },
    {
     "cell_type": "code",
     "metadata": {},
     "outputs": [
      {
       "output_type": "stream",
       "stream": "stdout",
       "text": [
        "[[ 0.69303675]]\n",
        "[-10286534.749647766]\n",
        "0.602792990015\n"
       ]
      }
     ],
     "input": [
      "# import statsmodels.formula.api as sm\n",
      "from sklearn.cross_validation import train_test_split\n",
      "from sklearn.linear_model import LinearRegression\n",
      "\n",
      "cleaned_un = collapsed_df[pd.notnull(collapsed_df['prev_meta'])]\n",
      "cleaned_df= cleaned_un.sort(columns='prev_gross')\n",
      "var_lab = list(cleaned_df.columns.values)\n",
      "\n",
      "train, test = train_test_split(cleaned_df, test_size = 0.25)\n",
      "\n",
      "train_df = pd.DataFrame(train,columns=var_lab).sort(columns='prev_gross') \n",
      "test_df = pd.DataFrame(test,columns=var_lab).sort(columns='prev_gross') \n",
      "\n",
      "\n",
      "X_train = train_df[['prev_gross']]\n",
      "Y_train = train_df[['act_gross']]\n",
      "\n",
      "X_test = test_df[['prev_gross']]\n",
      "Y_test = test_df[['act_gross']]\n",
      "\n",
      "sk_linmodel = LinearRegression()\n",
      "sk_linmodel.fit(X_train,Y_train)\n",
      "\n",
      "print sk_linmodel.coef_\n",
      "print sk_linmodel.intercept_\n",
      "print  sk_linmodel.score(X_train, Y_train)\n",
      "\n",
      "pylab.scatter(X_test['prev_gross']/10**6, Y_test/10**6 , c='red')\n",
      "plt.xlabel('Avg. Gross of Previous Films (Million $)')\n",
      "plt.ylabel('Gross of Third Film (Million $)')\n",
      "pylab.plot(X_train['prev_gross']/10**6, sk_linmodel.predict(X_train)/10**6)\n",
      "plt.show()"
     ],
     "language": "python",
     "prompt_number": 6
    },
    {
     "cell_type": "heading",
     "metadata": {},
     "level": 2,
     "source": [
      "ridge"
     ]
    },
    {
     "cell_type": "code",
     "metadata": {},
     "outputs": [
      {
       "output_type": "stream",
       "stream": "stdout",
       "text": [
        "[  5.55970705e-01   2.71006118e+06  -4.24064206e+04  -8.29337414e+06\n",
        "  -1.09713042e+07]\n",
        "[-46879422.51815507]\n",
        "0.807037797225\n"
       ]
      },
      {
       "output_type": "pyout",
       "prompt_number": 7,
       "text": [
        "<matplotlib.legend.Legend at 0x10cae5550>"
       ],
       "metadata": {}
      }
     ],
     "input": [
      "from sklearn.linear_model import ElasticNet\n",
      "\n",
      "cleaned_un = collapsed_df.dropna()\n",
      "cleaned_df= cleaned_un.sort(columns='prev_gross')\n",
      "\n",
      "var_lab = list(cleaned_df.columns.values)\n",
      "\n",
      "train, test = train_test_split(cleaned_df, test_size = 0.25)\n",
      "\n",
      "train_df = pd.DataFrame(train,columns=var_lab).sort(columns='prev_gross')  \n",
      "test_df = pd.DataFrame(test,columns=var_lab).sort(columns='prev_gross')  \n",
      "\n",
      "\n",
      "X_train = train_df[['prev_gross','act_meta','days_elapsed','same_genre','same_dir']]\n",
      "Y_train = train_df[['act_gross']]\n",
      "\n",
      "X_test = test_df[['prev_gross','act_meta','days_elapsed','same_genre','same_dir']]\n",
      "Y_test = test_df[['act_gross']]\n",
      "\n",
      "sk_model = ElasticNet(1.0, l1_ratio = 0.5)\n",
      "sk_model.fit(X_train,Y_train)\n",
      "\n",
      "xt_sort = collapsed_df.sort(columns='prev_gross')\n",
      "\n",
      "print sk_model.coef_\n",
      "print sk_model.intercept_\n",
      "print  sk_model.score(X_train, Y_train)\n",
      "\n",
      "test_plt=plt.scatter(X_test['prev_gross']/10**6, Y_test/10**6 , c='cyan')\n",
      "plt.xlabel('Avg. Gross of Previous Films (Million $)')\n",
      "plt.ylabel('Gross of Third Film (Million $)')\n",
      "predict_plot=plt.scatter(X_test['prev_gross']/10**6, sk_model.predict(X_test)/10**6, c='magenta', marker='x')\n",
      "plt.legend((test_plt, predict_plot),\n",
      "           ('test data', 'predictions'),\n",
      "           scatterpoints=1,\n",
      "           loc='lower left',\n",
      "           ncol=2,\n",
      "           fontsize=12)\n",
      "# plt.show()"
     ],
     "language": "python",
     "prompt_number": 7
    },
    {
     "cell_type": "code",
     "metadata": {},
     "outputs": [
      {
       "output_type": "stream",
       "stream": "stdout",
       "text": [
        "[  2.29869769e+08] [  4.50312621e+08]\n"
       ]
      }
     ],
     "input": [
      "x_lotr = collapsed_df.loc[collapsed_df['franchise']=='lordoftherings'][['prev_gross','act_meta','days_elapsed','same_genre','same_dir']]\n",
      "x_btf = collapsed_df.loc[collapsed_df['franchise']=='backtothefuture'][['prev_gross','act_meta','days_elapsed','same_genre','same_dir']]\n",
      "\n",
      "xbp =sk_model.predict(x_btf)\n",
      "xlp = sk_model.predict(x_lotr)\n",
      "print xbp, xlp"
     ],
     "language": "python",
     "prompt_number": 8
    },
    {
     "cell_type": "heading",
     "metadata": {},
     "level": 2,
     "source": [
      "Looking at continuing genre, director"
     ]
    },
    {
     "cell_type": "code",
     "metadata": {},
     "outputs": [],
     "input": [
      "cont_flag = collapsed_df['same_genre']\n",
      "xcon = cont_flag*collapsed_df['prev_gross']/10**6\n",
      "ycon = cont_flag*collapsed_df['act_gross']/10**6\n",
      "xnocon = (-1)*(cont_flag-1)*collapsed_df['prev_gross']/10**6\n",
      "ynocon = (-1)*(cont_flag-1)*collapsed_df['act_gross']/10**6\n",
      "\n",
      "\n",
      "plt.scatter(xcon,ycon, c='red')\n",
      "plt.xlabel('Avg. Gross of Previous Films (Million $)')\n",
      "plt.ylabel('Gross of Third Film (Million $)')\n",
      "plt.scatter(xnocon,ynocon, c='blue')\n",
      "plt.show()"
     ],
     "language": "python",
     "prompt_number": 9
    },
    {
     "cell_type": "code",
     "metadata": {},
     "outputs": [],
     "input": [
      "cont_flag = collapsed_df['same_rating']\n",
      "xcon = cont_flag*collapsed_df['prev_gross']/10**6\n",
      "ycon = cont_flag*collapsed_df['act_gross']/10**6\n",
      "xnocon = (-1)*(cont_flag-1)*collapsed_df['prev_gross']/10**6\n",
      "ynocon = (-1)*(cont_flag-1)*collapsed_df['act_gross']/10**6\n",
      "\n",
      "\n",
      "plt.scatter(xcon,ycon, c='red')\n",
      "plt.xlabel('Avg. Gross of Previous Films (Million $)')\n",
      "plt.ylabel('Gross of Third Film (Million $)')\n",
      "plt.scatter(xnocon,ynocon, c='blue')\n",
      "plt.show()"
     ],
     "language": "python",
     "prompt_number": 10
    },
    {
     "cell_type": "code",
     "metadata": {},
     "outputs": [],
     "input": [
      "btf = []\n",
      "lotr =[]\n",
      "\n",
      "def makeplot_grosses(movie_list):\n",
      "    '''Generates and returns line plot of the gross returns over the\n",
      "      course of a series\n",
      "    '''\n",
      "    indices = [i for i in range(1,len(movie_list)+1)]\n",
      "    grosses = [int(movie[3])/1000000 for movie in movie_list]\n",
      "    grossplot=plt.plot(indices, grosses);\n",
      "    return grossplot\n",
      "\n",
      "for franchise, movies_df in franchise_groups:\n",
      "    movies_df.drop_duplicates('title', inplace=True)\n",
      "    if franchise == 'lordoftherings':\n",
      "        movies_df = movies_df[movies_df.rating != 'PG'] \n",
      "        lotr = movies_df.values\n",
      "    if franchise == 'backtothefuture':\n",
      "        btf = movies_df.values\n",
      "\n",
      "s1_label = 'The Lord of the Rings'\n",
      "s2_label = 'Back to the Future'"
     ],
     "language": "python",
     "prompt_number": 11
    },
    {
     "cell_type": "code",
     "metadata": {},
     "outputs": [
      {
       "output_type": "stream",
       "stream": "stdout",
       "text": [
        "11    366865900\n",
        "Name: prev_gross, dtype: float64\n",
        "229869768.963 450312621.312\n"
       ]
      }
     ],
     "input": [
      "xbp =sk_model.predict(x_btf)\n",
      "xlp = sk_model.predict(x_lotr)\n",
      "print x_btf['prev_gross']\n",
      "print xbp[0], xlp[0]"
     ],
     "language": "python",
     "prompt_number": 12
    },
    {
     "cell_type": "code",
     "metadata": {},
     "outputs": [
      {
       "output_type": "stream",
       "stream": "stdout",
       "text": [
        "[1, 2, 3] [452, 475, 510]\n",
        "[1, 2, 3] [490, 243, 172]\n"
       ]
      }
     ],
     "input": [
      "def makeplot_comp(movie_list):\n",
      "    '''Generates and returns line plot of the gross returns over the\n",
      "      course of a series\n",
      "    '''\n",
      "    indices = [i for i in range(1,len(movie_list)+1)]\n",
      "    grosses = [int(movie[3])/1000000 for movie in movie_list]\n",
      "    grossplot=plt.plot(indices, grosses);\n",
      "    return grossplot\n",
      "\n",
      "fig, ax = plt.subplots()\n",
      "fig.set_size_inches(16,12)\n",
      "lotr_plot = makeplot_comp(lotr[:3])\n",
      "btf_plot = makeplot_comp(btf[:3])\n",
      "\n",
      "plt.title('Box Office Totals for two Popular Trilogies', fontsize=30);\n",
      "# plt.xlabel(\"Films\", fontsize=15, labelpad=5);\n",
      "plt.axis([0.8,3.2,0,600])\n",
      "plt.xticks(rotation=40)\n",
      "plt.tick_params(axis='x', which='major', labelsize=20)\n",
      "plt.ylabel(\"Inflation adjusted Millions of $\", fontsize=30, labelpad=15);\n",
      "plt.setp(ax, xticks=[1, 2, 3], xticklabels=['1st Film', '2nd Film', '3rd Film']);\n",
      "plt.setp(btf_plot, color='r', alpha=0.7, linewidth=5.0)\n",
      "plt.setp(lotr_plot, color='k',alpha=0.7, linewidth=5.0)\n",
      "plt.legend([s1_label, s2_label],loc='lower left')\n",
      "plt.scatter(3,xbp[0]/1000000, color='r', alpha=0.7, linewidth=8.0)\n",
      "plt.scatter(3,xlp[0]/1000000, color='k', alpha=0.7, linewidth=8.0)\n",
      "# fig.show()\n",
      "fig.savefig('final_comp.png',dpi=200)"
     ],
     "language": "python",
     "prompt_number": 21
    },
    {
     "cell_type": "code",
     "metadata": {},
     "outputs": [],
     "input": [
      ""
     ],
     "language": "python",
     "prompt_number": 13
    },
    {
     "cell_type": "code",
     "metadata": {},
     "outputs": [],
     "input": [
      ""
     ],
     "language": "python"
    }
   ]
  }
 ],
 "cells": [],
 "metadata": {
  "name": "",
  "signature": "sha256:4b69e2b4165e95203e46b8f5e1cb35a7defc6ef74817c1f6471516358fb31b45"
 },
 "nbformat": 3,
 "nbformat_minor": 0
}