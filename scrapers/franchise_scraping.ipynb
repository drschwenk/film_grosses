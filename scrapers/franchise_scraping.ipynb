{
 "worksheets": [
  {
   "cells": [
    {
     "cell_type": "code",
     "metadata": {},
     "outputs": [],
     "input": [
      "from collections import defaultdict\n",
      "import urllib2\n",
      "from bs4 import BeautifulSoup\n",
      "import re\n",
      "import dateutil.parser\n",
      "import pylab\n",
      "import matplotlib.pyplot as plt\n",
      "\n",
      "from box_mojo import *\n",
      "from box_mojo_franchise_list import *"
     ],
     "language": "python",
     "prompt_number": 2
    },
    {
     "cell_type": "code",
     "metadata": {},
     "outputs": [],
     "input": [
      "# franchiseslist = build_franchise_chart_urls()\n",
      "# franchise_urls = build_movie_url_list(franchiseslist)"
     ],
     "language": "python",
     "prompt_number": 3
    },
    {
     "cell_type": "code",
     "metadata": {},
     "outputs": [
      {
       "output_type": "stream",
       "stream": "stdout",
       "text": [
        "date error\ndate error"
       ]
      },
      {
       "output_type": "stream",
       "stream": "stdout",
       "text": [
        "\ndate error"
       ]
      },
      {
       "output_type": "stream",
       "stream": "stdout",
       "text": [
        "\ndate error"
       ]
      },
      {
       "output_type": "stream",
       "stream": "stdout",
       "text": [
        "\ndate error"
       ]
      },
      {
       "output_type": "stream",
       "stream": "stdout",
       "text": [
        "\n"
       ]
      }
     ],
     "input": [
      "# complete_data_list= []\n",
      "# \n",
      "# \n",
      "# for franchise, urls in franchise_urls.iteritems():\n",
      "# \tfranchise_data = make_series_data(urls)\n",
      "# \tfor movie in franchise_data:\n",
      "# \t\tmovie[\"franchise\"] = franchise\n",
      "# \t\tcomplete_data_list.append(movie)\n",
      "\n",
      "complete_data_list = make_complete_movie_dataset(franchise_urls)"
     ],
     "language": "python",
     "prompt_number": 4
    },
    {
     "cell_type": "code",
     "metadata": {},
     "outputs": [],
     "input": [
      "import pickle\n",
      "# \n",
      "# with open('complete_data.pkl', 'w') as picklefile:\n",
      "#     pickle.dump(complete_data_list, picklefile)"
     ],
     "language": "python",
     "prompt_number": 3
    },
    {
     "cell_type": "code",
     "metadata": {},
     "outputs": [],
     "input": [
      "with open(\"complete_data.pkl\", 'r') as picklefile: \n",
      "    complete_data_for_pandas = pickle.load(picklefile)"
     ],
     "language": "python",
     "prompt_number": 4
    },
    {
     "cell_type": "code",
     "metadata": {},
     "outputs": [],
     "input": [
      "%matplotlib inline\n",
      "# s1_label = 'Aliens'\n",
      "# s2_label = 'Back to the Future'\n",
      "# \n",
      "# fig, ax = plt.subplots()\n",
      "# lotr_plot = makeplot_grosses(aliens_data)\n",
      "# btf_plot = makeplot_grosses(btf_data)\n",
      "# plt.title('Domestic Grosses for Popular Trilogies', fontsize=17);\n",
      "# # plt.xlabel(\"Films\", fontsize=15, labelpad=5);\n",
      "# plt.axis([0.8,3.2,0,600])\n",
      "# plt.xticks(rotation=60)\n",
      "# plt.tick_params(axis='x', which='major', labelsize=15)\n",
      "# plt.ylabel(\"Inflation adjusted Millions of $\", fontsize=15, labelpad=15);\n",
      "# plt.setp(ax, xticks=range(len(aliens_data)), xticklabels=['1st Film', '2nd Film', '3rd Film']);\n",
      "# plt.setp(btf_plot, color='c', alpha=0.7, linewidth=3.0)\n",
      "# plt.setp(lotr_plot, color='m',alpha=0.7, linewidth=3.0)\n",
      "# plt.legend([s1_label, s2_label],loc='upper right')"
     ],
     "language": "python",
     "prompt_number": 5
    },
    {
     "cell_type": "heading",
     "metadata": {},
     "level": 3,
     "source": [
      "At this point, I have 725 movies belonging to 151 franchises"
     ]
    },
    {
     "cell_type": "code",
     "metadata": {},
     "outputs": [
      {
       "output_type": "stream",
       "stream": "stdout",
       "text": [
        "     domestic_total_gross franchise         rating release_date runtime_mins  \\\n721                     0     httyd  Not Yet Rated   2017-06-09         None   \n722             187184000    scream              R   1996-12-20          110   \n723             181776000    scream              R   1997-12-12          120   \n724             137270600    scream              R   2000-02-04          117   \n725              39317800    scream              R   2011-04-15          103   \n\n                          title  \n721  How to Train Your Dragon 3  \n722                      Scream  \n723                    Scream 2  \n724                    Scream 3  \n725                    Scream 4  \n"
       ]
      }
     ],
     "input": [
      "import pandas as pd\n",
      "df = pd.DataFrame(complete_data_for_pandas)\n",
      "\n",
      "print df.tail();"
     ],
     "language": "python",
     "prompt_number": 6
    },
    {
     "cell_type": "code",
     "metadata": {},
     "outputs": [
      {
       "output_type": "stream",
       "stream": "stdout",
       "text": [
        "   domestic_total_gross    franchise rating release_date runtime_mins  \\\n0             108630500    alexcross      R   2001-04-06          103   \n1             109451300    alexcross      R   1997-10-03          117   \n2              26692400    alexcross  PG-13   2012-10-19          101   \n3             101504700  mightyducks     PG   1992-10-02          104   \n4              90566100  mightyducks     PG   1994-03-25          107   \n\n                  title  \n0   Along Came a Spider  \n1        Kiss the Girls  \n2            Alex Cross  \n3      The Mighty Ducks  \n4  D2: The Mighty Ducks  \n"
       ]
      }
     ],
     "input": [
      "print df.head()"
     ],
     "language": "python",
     "prompt_number": 7
    }
   ]
  }
 ],
 "cells": [],
 "metadata": {
  "signature": "sha256:34e8e192338c65a142947965e22639f919fc8eb5c9b1a11be5b6e965c6c8a67c"
 },
 "nbformat": 3,
 "nbformat_minor": 0
}