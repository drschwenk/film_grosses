{
 "metadata": {
  "signature": "sha256:5fcc10683fb4cebd1577eb0f3ba6d94ce1e027b7f9ffb5c807e764651adf1ea5"
 },
 "nbformat": 3,
 "nbformat_minor": 0,
 "worksheets": [
  {
   "cells": [
    {
     "cell_type": "code",
     "collapsed": false,
     "input": [
      "%load_ext autoreload\n",
      "%autoreload 2\n",
      "\n",
      "from collections import defaultdict\n",
      "import urllib2\n",
      "from bs4 import BeautifulSoup\n",
      "import re\n",
      "import dateutil.parser\n",
      "import pylab\n",
      "import matplotlib.pyplot as plt\n",
      "\n",
      "from box_mojo import *\n",
      "from box_mojo_franchise_list import *"
     ],
     "language": "python",
     "metadata": {},
     "outputs": [
      {
       "output_type": "stream",
       "stream": "stdout",
       "text": [
        "The autoreload extension is already loaded. To reload it, use:\n",
        "  %reload_ext autoreload\n"
       ]
      }
     ],
     "prompt_number": 42
    },
    {
     "cell_type": "code",
     "collapsed": false,
     "input": [
      "franchiseslist = build_franchise_chart_urls()\n",
      "franchise_urls = build_movie_url_list(franchiseslist[0:3])"
     ],
     "language": "python",
     "metadata": {},
     "outputs": [],
     "prompt_number": 43
    },
    {
     "cell_type": "code",
     "collapsed": false,
     "input": [
      "# complete_data_list= []\n",
      "# \n",
      "# \n",
      "# for franchise, urls in franchise_urls.iteritems():\n",
      "# \tfranchise_data = make_series_data(urls)\n",
      "# \tfor movie in franchise_data:\n",
      "# \t\tmovie[\"franchise\"] = franchise\n",
      "# \t\tcomplete_data_list.append(movie)\n",
      "\n",
      "complete_data_list = make_complete_movie_dataset(franchise_urls)"
     ],
     "language": "python",
     "metadata": {},
     "outputs": [],
     "prompt_number": 44
    },
    {
     "cell_type": "code",
     "collapsed": false,
     "input": [
      "print complete_data_list[5]"
     ],
     "language": "python",
     "metadata": {},
     "outputs": [
      {
       "output_type": "stream",
       "stream": "stdout",
       "text": [
        "{'rating': 'R', 'runtime_mins': None, 'oscars': None, 'title': 'Alien Resurrection', 'release_date': datetime.date(1997, 11, 26), 'budget': 75000000.0, 'distrib': None, 'domestic_total_gross': 86427900, 'genre': 'Sci-Fi Horror', 'franchise': 'alien'}\n"
       ]
      }
     ],
     "prompt_number": 47
    },
    {
     "cell_type": "code",
     "collapsed": false,
     "input": [
      "import pickle\n",
      "# \n",
      "# with open('complete_data.pkl', 'w') as picklefile:\n",
      "#     pickle.dump(complete_data_list, picklefile)"
     ],
     "language": "python",
     "metadata": {},
     "outputs": [],
     "prompt_number": 24
    },
    {
     "cell_type": "code",
     "collapsed": false,
     "input": [
      "with open(\"complete_data.pkl\", 'r') as picklefile: \n",
      "    complete_data_for_pandas = pickle.load(picklefile)"
     ],
     "language": "python",
     "metadata": {},
     "outputs": [],
     "prompt_number": 4
    },
    {
     "cell_type": "code",
     "collapsed": false,
     "input": [
      "%matplotlib inline\n",
      "# s1_label = 'Aliens'\n",
      "# s2_label = 'Back to the Future'\n",
      "# \n",
      "# fig, ax = plt.subplots()\n",
      "# lotr_plot = makeplot_grosses(aliens_data)\n",
      "# btf_plot = makeplot_grosses(btf_data)\n",
      "# plt.title('Domestic Grosses for Popular Trilogies', fontsize=17);\n",
      "# # plt.xlabel(\"Films\", fontsize=15, labelpad=5);\n",
      "# plt.axis([0.8,3.2,0,600])\n",
      "# plt.xticks(rotation=60)\n",
      "# plt.tick_params(axis='x', which='major', labelsize=15)\n",
      "# plt.ylabel(\"Inflation adjusted Millions of $\", fontsize=15, labelpad=15);\n",
      "# plt.setp(ax, xticks=range(len(aliens_data)), xticklabels=['1st Film', '2nd Film', '3rd Film']);\n",
      "# plt.setp(btf_plot, color='c', alpha=0.7, linewidth=3.0)\n",
      "# plt.setp(lotr_plot, color='m',alpha=0.7, linewidth=3.0)\n",
      "# plt.legend([s1_label, s2_label],loc='upper right')"
     ],
     "language": "python",
     "metadata": {},
     "outputs": [],
     "prompt_number": 5
    },
    {
     "cell_type": "heading",
     "level": 3,
     "metadata": {},
     "source": [
      "At this point, I have 725 movies belonging to 151 franchises"
     ]
    },
    {
     "cell_type": "code",
     "collapsed": false,
     "input": [
      "import pandas as pd\n",
      "df = pd.DataFrame(complete_data_for_pandas)\n",
      "\n",
      "print df.tail();"
     ],
     "language": "python",
     "metadata": {},
     "outputs": [
      {
       "output_type": "stream",
       "stream": "stdout",
       "text": [
        "     domestic_total_gross franchise         rating release_date runtime_mins  \\\n",
        "721                     0     httyd  Not Yet Rated   2017-06-09         None   \n",
        "722             187184000    scream              R   1996-12-20          110   \n",
        "723             181776000    scream              R   1997-12-12          120   \n",
        "724             137270600    scream              R   2000-02-04          117   \n",
        "725              39317800    scream              R   2011-04-15          103   \n",
        "\n",
        "                          title  \n",
        "721  How to Train Your Dragon 3  \n",
        "722                      Scream  \n",
        "723                    Scream 2  \n",
        "724                    Scream 3  \n",
        "725                    Scream 4  \n"
       ]
      }
     ],
     "prompt_number": 6
    },
    {
     "cell_type": "code",
     "collapsed": false,
     "input": [
      "print df.head()"
     ],
     "language": "python",
     "metadata": {},
     "outputs": [
      {
       "output_type": "stream",
       "stream": "stdout",
       "text": [
        "   domestic_total_gross    franchise rating release_date runtime_mins  \\\n",
        "0             108630500    alexcross      R   2001-04-06          103   \n",
        "1             109451300    alexcross      R   1997-10-03          117   \n",
        "2              26692400    alexcross  PG-13   2012-10-19          101   \n",
        "3             101504700  mightyducks     PG   1992-10-02          104   \n",
        "4              90566100  mightyducks     PG   1994-03-25          107   \n",
        "\n",
        "                  title  \n",
        "0   Along Came a Spider  \n",
        "1        Kiss the Girls  \n",
        "2            Alex Cross  \n",
        "3      The Mighty Ducks  \n",
        "4  D2: The Mighty Ducks  \n"
       ]
      }
     ],
     "prompt_number": 7
    }
   ],
   "metadata": {}
  }
 ]
}