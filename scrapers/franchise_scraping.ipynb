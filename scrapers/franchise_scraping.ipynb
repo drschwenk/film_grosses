{
 "worksheets": [
  {
   "cells": [
    {
     "cell_type": "code",
     "metadata": {},
     "outputs": [
      {
       "output_type": "stream",
       "stream": "stdout",
       "text": [
        "The autoreload extension is already loaded. To reload it, use:\n  %reload_ext autoreload\n"
       ]
      }
     ],
     "input": [
      "%load_ext autoreload\n",
      "%autoreload 2\n",
      "\n",
      "from collections import defaultdict\n",
      "import urllib2\n",
      "from bs4 import BeautifulSoup\n",
      "import re\n",
      "import dateutil.parser\n",
      "import pylab\n",
      "import matplotlib.pyplot as plt\n",
      "\n",
      "from box_mojo import *\n",
      "from box_mojo_franchise_list import *"
     ],
     "language": "python",
     "prompt_number": 10
    },
    {
     "cell_type": "code",
     "metadata": {},
     "outputs": [],
     "input": [
      "franchiseslist = build_franchise_chart_urls()\n",
      "franchise_urls = build_movie_url_list(franchiseslist)"
     ],
     "language": "python",
     "prompt_number": 11
    },
    {
     "cell_type": "code",
     "metadata": {},
     "outputs": [],
     "input": [
      "complete_data_list = make_complete_movie_dataset(franchise_urls)"
     ],
     "language": "python",
     "prompt_number": 12
    },
    {
     "cell_type": "code",
     "metadata": {},
     "outputs": [
      {
       "output_type": "stream",
       "stream": "stdout",
       "text": [
        "{'rating': 'PG', 'oscars': None, 'title': 'D3: The Mighty Ducks', 'release_date': datetime.date(1996, 10, 4), 'budget': None, 'distrib': None, 'domestic_total_gross': 43105700, 'genre': 'Family Comedy', 'runtime': 104, 'franchise': 'mightyducks'}\n"
       ]
      }
     ],
     "input": [
      "print complete_data_list[5]"
     ],
     "language": "python",
     "prompt_number": 13
    },
    {
     "cell_type": "code",
     "metadata": {},
     "outputs": [],
     "input": [
      "%matplotlib inline\n",
      "# s1_label = 'Aliens'\n",
      "# s2_label = 'Back to the Future'\n",
      "# \n",
      "# fig, ax = plt.subplots()\n",
      "# lotr_plot = makeplot_grosses(aliens_data)\n",
      "# btf_plot = makeplot_grosses(btf_data)\n",
      "# plt.title('Domestic Grosses for Popular Trilogies', fontsize=17);\n",
      "# # plt.xlabel(\"Films\", fontsize=15, labelpad=5);\n",
      "# plt.axis([0.8,3.2,0,600])\n",
      "# plt.xticks(rotation=60)\n",
      "# plt.tick_params(axis='x', which='major', labelsize=15)\n",
      "# plt.ylabel(\"Inflation adjusted Millions of $\", fontsize=15, labelpad=15);\n",
      "# plt.setp(ax, xticks=range(len(aliens_data)), xticklabels=['1st Film', '2nd Film', '3rd Film']);\n",
      "# plt.setp(btf_plot, color='c', alpha=0.7, linewidth=3.0)\n",
      "# plt.setp(lotr_plot, color='m',alpha=0.7, linewidth=3.0)\n",
      "# plt.legend([s1_label, s2_label],loc='upper right')"
     ],
     "language": "python",
     "prompt_number": 5
    },
    {
     "cell_type": "heading",
     "metadata": {},
     "level": 3,
     "source": [
      "At this point, I have 725 movies belonging to 151 franchises"
     ]
    },
    {
     "cell_type": "code",
     "metadata": {},
     "outputs": [
      {
       "output_type": "stream",
       "stream": "stdout",
       "text": [
        "     domestic_total_gross franchise         rating release_date runtime_mins  \\\n",
        "721                     0     httyd  Not Yet Rated   2017-06-09         None   \n",
        "722             187184000    scream              R   1996-12-20          110   \n",
        "723             181776000    scream              R   1997-12-12          120   \n",
        "724             137270600    scream              R   2000-02-04          117   \n",
        "725              39317800    scream              R   2011-04-15          103   \n",
        "\n",
        "                          title  \n",
        "721  How to Train Your Dragon 3  \n",
        "722                      Scream  \n",
        "723                    Scream 2  \n",
        "724                    Scream 3  \n",
        "725                    Scream 4  \n"
       ]
      }
     ],
     "input": [
      "import pandas as pd\n",
      "df = pd.DataFrame(complete_data_for_pandas)\n",
      "\n",
      "print df.tail();"
     ],
     "language": "python",
     "prompt_number": 6
    }
   ]
  }
 ],
 "cells": [],
 "metadata": {
  "signature": "sha256:5fcc10683fb4cebd1577eb0f3ba6d94ce1e027b7f9ffb5c807e764651adf1ea5"
 },
 "nbformat": 3,
 "nbformat_minor": 0
}