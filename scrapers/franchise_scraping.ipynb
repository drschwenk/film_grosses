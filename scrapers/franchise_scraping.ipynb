{
 "worksheets": [
  {
   "cells": [
    {
     "cell_type": "code",
     "metadata": {},
     "outputs": [],
     "input": [
      "from collections import defaultdict\n",
      "import urllib2\n",
      "from bs4 import BeautifulSoup\n",
      "import re\n",
      "import dateutil.parser\n",
      "import pylab\n",
      "import matplotlib.pyplot as plt\n",
      "\n",
      "from box_mojo import *\n",
      "from box_mojo_franchise_list import *"
     ],
     "language": "python",
     "prompt_number": 2
    },
    {
     "cell_type": "code",
     "metadata": {},
     "outputs": [],
     "input": [
      "franchiseslist = build_franchise_chart_urls()\n",
      "franchise_urls = build_movie_url_list(franchiseslist[:1])\n"
     ],
     "language": "python",
     "prompt_number": 11
    },
    {
     "cell_type": "code",
     "metadata": {},
     "outputs": [
      {
       "output_type": "stream",
       "stream": "stdout",
       "text": [
        "[[{'rating': 'R', 'release_date': datetime.date(2012, 6, 8), 'runtime_mins': '124', 'domestic_total_gross': 129280800, 'title': 'Prometheus'}, {'rating': 'R', 'release_date': datetime.date(1986, 7, 18), 'runtime_mins': '137', 'domestic_total_gross': 190520200, 'title': 'Aliens'}, {'rating': 'PG-13', 'release_date': datetime.date(2004, 8, 13), 'runtime_mins': '87', 'domestic_total_gross': 107301500, 'title': 'Alien Vs. Predator'}, {'rating': 'R', 'release_date': datetime.date(1979, 5, 25), 'runtime_mins': '117', 'domestic_total_gross': 261052800, 'title': 'Alien'}, {'rating': 'R', 'release_date': datetime.date(1992, 5, 22), 'runtime_mins': '114', 'domestic_total_gross': 110947100, 'title': 'Alien 3'}, {'rating': 'R', 'release_date': datetime.date(1997, 11, 26), 'runtime_mins': '109', 'domestic_total_gross': 86427900, 'title': 'Alien Resurrection'}, {'rating': 'R', 'release_date': datetime.date(2007, 12, 25), 'runtime_mins': '86', 'domestic_total_gross': 49165300, 'title': 'Aliens Vs. Predator - Requiem'}], [{'rating': 'R', 'release_date': datetime.date(2001, 4, 6), 'runtime_mins': '103', 'domestic_total_gross': 108630500, 'title': 'Along Came a Spider'}, {'rating': 'R', 'release_date': datetime.date(1997, 10, 3), 'runtime_mins': '117', 'domestic_total_gross': 109451300, 'title': 'Kiss the Girls'}, {'rating': 'PG-13', 'release_date': datetime.date(2012, 10, 19), 'runtime_mins': '101', 'domestic_total_gross': 26692400, 'title': 'Alex Cross'}], [{'rating': 'PG', 'release_date': datetime.date(2009, 12, 23), 'runtime_mins': '88', 'domestic_total_gross': 234922500, 'title': 'Alvin and the Chipmunks: The Squeakquel'}, {'rating': 'PG', 'release_date': datetime.date(2007, 12, 14), 'runtime_mins': '92', 'domestic_total_gross': 256892000, 'title': 'Alvin and the Chipmunks'}, {'rating': 'G', 'release_date': datetime.date(2011, 12, 16), 'runtime_mins': '87', 'domestic_total_gross': 140392200, 'title': 'Alvin and the Chipmunks: Chipwrecked'}, {'rating': 'G', 'release_date': datetime.date(1987, 5, 22), 'runtime_mins': '76', 'domestic_total_gross': 14443900, 'title': 'The Chipmunk Adventure'}, {'rating': 'Not Yet Rated', 'release_date': datetime.date(2015, 12, 23), 'runtime_mins': None, 'domestic_total_gross': 0, 'title': 'Alvin and the Chipmunks 4'}], [{'rating': 'PG', 'release_date': datetime.date(1992, 8, 7), 'runtime_mins': '85', 'domestic_total_gross': 58000600, 'title': '3 Ninjas'}, {'rating': 'PG', 'release_date': datetime.date(1994, 5, 6), 'runtime_mins': '94', 'domestic_total_gross': 23428300, 'title': '3 Ninjas Kick Back'}, {'rating': 'PG-13', 'release_date': datetime.date(1995, 3, 10), 'runtime_mins': '87', 'domestic_total_gross': 788900, 'title': '3 Ninjas Knuckle Up'}, {'rating': 'PG', 'release_date': datetime.date(1998, 4, 10), 'runtime_mins': '93', 'domestic_total_gross': 665100, 'title': '3 Ninjas: High Noon at Mega Mountain'}]]\n"
       ]
      }
     ],
     "input": [
      "complete_data_list= []\n",
      "\n",
      "\n",
      "for franchise, urls in franchise_urls.iteritems():\n",
      "\tfranchise_data = make_series_data(urls)\n",
      "\tcomplete_data_list.append(franchise_data)\n",
      "\n",
      "# print complete_data_list"
     ],
     "language": "python",
     "prompt_number": 10
    },
    {
     "cell_type": "code",
     "metadata": {},
     "outputs": [],
     "input": [
      "%matplotlib inline\n",
      "# s1_label = 'Aliens'\n",
      "# s2_label = 'Back to the Future'\n",
      "# \n",
      "# fig, ax = plt.subplots()\n",
      "# lotr_plot = makeplot_grosses(aliens_data)\n",
      "# btf_plot = makeplot_grosses(btf_data)\n",
      "# plt.title('Domestic Grosses for Popular Trilogies', fontsize=17);\n",
      "# # plt.xlabel(\"Films\", fontsize=15, labelpad=5);\n",
      "# plt.axis([0.8,3.2,0,600])\n",
      "# plt.xticks(rotation=60)\n",
      "# plt.tick_params(axis='x', which='major', labelsize=15)\n",
      "# plt.ylabel(\"Inflation adjusted Millions of $\", fontsize=15, labelpad=15);\n",
      "# plt.setp(ax, xticks=range(len(aliens_data)), xticklabels=['1st Film', '2nd Film', '3rd Film']);\n",
      "# plt.setp(btf_plot, color='c', alpha=0.7, linewidth=3.0)\n",
      "# plt.setp(lotr_plot, color='m',alpha=0.7, linewidth=3.0)\n",
      "# plt.legend([s1_label, s2_label],loc='upper right')"
     ],
     "language": "python",
     "prompt_number": 5
    },
    {
     "cell_type": "code",
     "metadata": {},
     "outputs": [],
     "input": [
      "df = pd.DataFrame(movie_data_dict)"
     ],
     "language": "python"
    },
    {
     "cell_type": "code",
     "metadata": {},
     "outputs": [],
     "input": [
      ""
     ],
     "language": "python"
    }
   ]
  }
 ],
 "cells": [],
 "metadata": {
  "signature": "sha256:34e8e192338c65a142947965e22639f919fc8eb5c9b1a11be5b6e965c6c8a67c"
 },
 "nbformat": 3,
 "nbformat_minor": 0
}